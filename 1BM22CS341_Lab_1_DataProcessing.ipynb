{
  "nbformat": 4,
  "nbformat_minor": 0,
  "metadata": {
    "colab": {
      "provenance": [],
      "authorship_tag": "ABX9TyPJC9P7fmXD/OZidPpJ3G80",
      "include_colab_link": true
    },
    "kernelspec": {
      "name": "python3",
      "display_name": "Python 3"
    },
    "language_info": {
      "name": "python"
    }
  },
  "cells": [
    {
      "cell_type": "markdown",
      "metadata": {
        "id": "view-in-github",
        "colab_type": "text"
      },
      "source": [
        "<a href=\"https://colab.research.google.com/github/singhhshipra/ML_LAB_/blob/main/1BM22CS341_Lab_1_DataProcessing.ipynb\" target=\"_parent\"><img src=\"https://colab.research.google.com/assets/colab-badge.svg\" alt=\"Open In Colab\"/></a>"
      ]
    },
    {
      "cell_type": "code",
      "execution_count": 21,
      "metadata": {
        "colab": {
          "base_uri": "https://localhost:8080/"
        },
        "id": "vEI5P_nqXd19",
        "outputId": "60ece1e9-c488-4d8c-9e8c-eab5245c9463"
      },
      "outputs": [
        {
          "output_type": "stream",
          "name": "stdout",
          "text": [
            "Information about all columns:\n",
            "<class 'pandas.core.frame.DataFrame'>\n",
            "RangeIndex: 20640 entries, 0 to 20639\n",
            "Data columns (total 10 columns):\n",
            " #   Column              Non-Null Count  Dtype  \n",
            "---  ------              --------------  -----  \n",
            " 0   longitude           20640 non-null  float64\n",
            " 1   latitude            20640 non-null  float64\n",
            " 2   housing_median_age  20640 non-null  float64\n",
            " 3   total_rooms         20640 non-null  float64\n",
            " 4   total_bedrooms      20433 non-null  float64\n",
            " 5   population          20640 non-null  float64\n",
            " 6   households          20640 non-null  float64\n",
            " 7   median_income       20640 non-null  float64\n",
            " 8   median_house_value  20640 non-null  float64\n",
            " 9   ocean_proximity     20640 non-null  object \n",
            "dtypes: float64(9), object(1)\n",
            "memory usage: 1.6+ MB\n",
            "None\n",
            "\n",
            "\n",
            "Statistical information of all numerical columns:\n",
            "          longitude      latitude  housing_median_age   total_rooms  \\\n",
            "count  20640.000000  20640.000000        20640.000000  20640.000000   \n",
            "mean    -119.569704     35.631861           28.639486   2635.763081   \n",
            "std        2.003532      2.135952           12.585558   2181.615252   \n",
            "min     -124.350000     32.540000            1.000000      2.000000   \n",
            "25%     -121.800000     33.930000           18.000000   1447.750000   \n",
            "50%     -118.490000     34.260000           29.000000   2127.000000   \n",
            "75%     -118.010000     37.710000           37.000000   3148.000000   \n",
            "max     -114.310000     41.950000           52.000000  39320.000000   \n",
            "\n",
            "       total_bedrooms    population    households  median_income  \\\n",
            "count    20433.000000  20640.000000  20640.000000   20640.000000   \n",
            "mean       537.870553   1425.476744    499.539680       3.870671   \n",
            "std        421.385070   1132.462122    382.329753       1.899822   \n",
            "min          1.000000      3.000000      1.000000       0.499900   \n",
            "25%        296.000000    787.000000    280.000000       2.563400   \n",
            "50%        435.000000   1166.000000    409.000000       3.534800   \n",
            "75%        647.000000   1725.000000    605.000000       4.743250   \n",
            "max       6445.000000  35682.000000   6082.000000      15.000100   \n",
            "\n",
            "       median_house_value  \n",
            "count        20640.000000  \n",
            "mean        206855.816909  \n",
            "std         115395.615874  \n",
            "min          14999.000000  \n",
            "25%         119600.000000  \n",
            "50%         179700.000000  \n",
            "75%         264725.000000  \n",
            "max         500001.000000  \n",
            "\n",
            "\n",
            "Count of unique labels for 'Ocean Proximity' column:\n",
            "ocean_proximity\n",
            "<1H OCEAN     9136\n",
            "INLAND        6551\n",
            "NEAR OCEAN    2658\n",
            "NEAR BAY      2290\n",
            "ISLAND           5\n",
            "Name: count, dtype: int64\n",
            "\n",
            "\n",
            "Columns with missing values count greater than zero:\n",
            "total_bedrooms    207\n",
            "dtype: int64\n"
          ]
        }
      ],
      "source": [
        "import pandas as pd\n",
        "\n",
        "# i. Load the .csv file into a DataFrame\n",
        "df = pd.read_csv('housing.csv')\n",
        "\n",
        "# ii. Display information of all columns\n",
        "print(\"Information about all columns:\")\n",
        "print(df.info())\n",
        "print(\"\\n\")\n",
        "\n",
        "# iii. Display statistical information of all numerical columns\n",
        "print(\"Statistical information of all numerical columns:\")\n",
        "print(df.describe())\n",
        "print(\"\\n\")\n",
        "\n",
        "# iv. Display the count of unique labels for the \"Ocean Proximity\" column\n",
        "print(\"Count of unique labels for 'Ocean Proximity' column:\")\n",
        "print(df['ocean_proximity'].value_counts())\n",
        "print(\"\\n\")\n",
        "\n",
        "# v. Display which attributes (columns) have missing values count greater than zero\n",
        "print(\"Columns with missing values count greater than zero:\")\n",
        "missing_values = df.isnull().sum()\n",
        "missing_columns = missing_values[missing_values > 0]\n",
        "print(missing_columns)\n"
      ]
    },
    {
      "cell_type": "code",
      "source": [],
      "metadata": {
        "id": "pbv7PNFZkzkh"
      },
      "execution_count": null,
      "outputs": []
    },
    {
      "cell_type": "code",
      "source": [
        "# Import necessary libraries\n",
        "import pandas as pd\n",
        "import numpy as np\n",
        "from sklearn.preprocessing import LabelEncoder\n",
        "\n",
        "# Load the datasets\n",
        "adult_df = pd.read_csv('adult.csv')\n",
        "diabetes_df = pd.read_csv('Dataset of Diabetes .csv')\n",
        "\n",
        "# ---- Part 1: Handling Missing Values ----\n",
        "\n",
        "# Replace '?' with NaN in the Adult Income dataset\n",
        "adult_df.replace('?', np.nan, inplace=True)\n",
        "\n",
        "# Check for missing values in Adult Income dataset\n",
        "adult_missing = adult_df.isnull().sum()\n",
        "adult_missing_cols = adult_missing[adult_missing > 0]\n",
        "print(\"Missing columns in Adult Income dataset:\")\n",
        "print(adult_missing_cols)\n",
        "\n",
        "# Handle missing values in Adult Income dataset by replacing with mode for categorical columns\n",
        "for column in adult_missing_cols.index:\n",
        "    most_frequent = adult_df[column].mode()[0]\n",
        "    adult_df[column].fillna(most_frequent, inplace=True)\n",
        "\n",
        "# Check for missing values in Diabetes dataset\n",
        "diabetes_missing = diabetes_df.isnull().sum()\n",
        "diabetes_missing_cols = diabetes_missing[diabetes_missing > 0]\n",
        "print(\"\\nMissing columns in Diabetes dataset:\")\n",
        "print(diabetes_missing_cols)\n",
        "\n",
        "# ---- Part 2: Encoding Categorical Columns ----\n",
        "\n",
        "# Initialize LabelEncoder\n",
        "label_encoder = LabelEncoder()\n",
        "\n",
        "# Identify and encode categorical columns in Adult Income dataset\n",
        "adult_categorical_cols = adult_df.select_dtypes(include=['object']).columns\n",
        "for col in adult_categorical_cols:\n",
        "    adult_df[col] = label_encoder.fit_transform(adult_df[col])\n",
        "print(\"\\nCategorical columns in Adult Income dataset encoded.\")\n",
        "\n",
        "# Identify and encode categorical columns in Diabetes dataset\n",
        "diabetes_categorical_cols = diabetes_df.select_dtypes(include=['object']).columns\n",
        "for col in diabetes_categorical_cols:\n",
        "    diabetes_df[col] = label_encoder.fit_transform(diabetes_df[col])\n",
        "print(\"Categorical columns in Diabetes dataset encoded.\")\n"
      ],
      "metadata": {
        "colab": {
          "base_uri": "https://localhost:8080/"
        },
        "id": "NO1Aa15cnWRk",
        "outputId": "cbfd9627-fd2a-490b-d009-bd835081a55f"
      },
      "execution_count": 27,
      "outputs": [
        {
          "output_type": "stream",
          "name": "stdout",
          "text": [
            "Missing columns in Adult Income dataset:\n",
            "workclass         2799\n",
            "occupation        2809\n",
            "native-country     857\n",
            "dtype: int64\n",
            "\n",
            "Missing columns in Diabetes dataset:\n",
            "Series([], dtype: int64)\n",
            "\n",
            "Categorical columns in Adult Income dataset encoded.\n",
            "Categorical columns in Diabetes dataset encoded.\n"
          ]
        },
        {
          "output_type": "stream",
          "name": "stderr",
          "text": [
            "<ipython-input-27-1b88268bca1e>:24: FutureWarning: A value is trying to be set on a copy of a DataFrame or Series through chained assignment using an inplace method.\n",
            "The behavior will change in pandas 3.0. This inplace method will never work because the intermediate object on which we are setting values always behaves as a copy.\n",
            "\n",
            "For example, when doing 'df[col].method(value, inplace=True)', try using 'df.method({col: value}, inplace=True)' or df[col] = df[col].method(value) instead, to perform the operation inplace on the original object.\n",
            "\n",
            "\n",
            "  adult_df[column].fillna(most_frequent, inplace=True)\n"
          ]
        }
      ]
    }
  ]
}