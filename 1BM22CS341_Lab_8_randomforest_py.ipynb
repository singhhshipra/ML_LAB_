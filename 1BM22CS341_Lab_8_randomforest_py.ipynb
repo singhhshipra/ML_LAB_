{
  "nbformat": 4,
  "nbformat_minor": 0,
  "metadata": {
    "colab": {
      "provenance": [],
      "authorship_tag": "ABX9TyPdfRoQm8VE01Kz00ZHY6hi",
      "include_colab_link": true
    },
    "kernelspec": {
      "name": "python3",
      "display_name": "Python 3"
    },
    "language_info": {
      "name": "python"
    }
  },
  "cells": [
    {
      "cell_type": "markdown",
      "metadata": {
        "id": "view-in-github",
        "colab_type": "text"
      },
      "source": [
        "<a href=\"https://colab.research.google.com/github/singhhshipra/ML_LAB_/blob/main/1BM22CS341_Lab_8_randomforest_py.ipynb\" target=\"_parent\"><img src=\"https://colab.research.google.com/assets/colab-badge.svg\" alt=\"Open In Colab\"/></a>"
      ]
    },
    {
      "cell_type": "code",
      "execution_count": 8,
      "metadata": {
        "colab": {
          "base_uri": "https://localhost:8080/"
        },
        "id": "WeT_vI_0rHxr",
        "outputId": "41a9a7ea-450f-4b40-b6b5-3886c06f5fbc"
      },
      "outputs": [
        {
          "output_type": "stream",
          "name": "stdout",
          "text": [
            "Columns:\n",
            " Index(['PassengerId', 'Survived', 'Pclass', 'Name', 'Sex', 'Age', 'SibSp',\n",
            "       'Parch', 'Ticket', 'Fare', 'Cabin', 'Embarked'],\n",
            "      dtype='object')\n",
            "\n",
            "Accuracy Score: 0.8659\n",
            "\n",
            "Confusion Matrix:\n",
            "[[ 26   0  17]\n",
            " [  0  12   5]\n",
            " [  2   0 117]]\n"
          ]
        }
      ],
      "source": [
        "import pandas as pd\n",
        "from sklearn.model_selection import train_test_split\n",
        "from sklearn.ensemble import RandomForestClassifier\n",
        "from sklearn.metrics import accuracy_score, confusion_matrix\n",
        "from sklearn.preprocessing import LabelEncoder\n",
        "\n",
        "# Load the dataset\n",
        "df = pd.read_csv(\"train - train.csv\")\n",
        "\n",
        "# Show column names to identify target (optional)\n",
        "print(\"Columns:\\n\", df.columns)\n",
        "\n",
        "# Encode all object (categorical) columns to numeric\n",
        "label_encoders = {}\n",
        "for column in df.columns:\n",
        "    if df[column].dtype == 'object':\n",
        "        le = LabelEncoder()\n",
        "        df[column] = le.fit_transform(df[column].astype(str))\n",
        "        label_encoders[column] = le\n",
        "\n",
        "# Assume last column is target\n",
        "X = df.iloc[:, :-1]\n",
        "y = df.iloc[:, -1]\n",
        "\n",
        "# Train-test split (80-20)\n",
        "X_train, X_test, y_train, y_test = train_test_split(\n",
        "    X, y, test_size=0.2, random_state=42\n",
        ")\n",
        "\n",
        "# Random Forest model\n",
        "rf_model = RandomForestClassifier(n_estimators=100, random_state=42)\n",
        "rf_model.fit(X_train, y_train)\n",
        "\n",
        "# Predictions\n",
        "y_pred = rf_model.predict(X_test)\n",
        "\n",
        "# Evaluation\n",
        "accuracy = accuracy_score(y_test, y_pred)\n",
        "conf_matrix = confusion_matrix(y_test, y_pred)\n",
        "\n",
        "print(f\"\\nAccuracy Score: {accuracy:.4f}\")\n",
        "print(\"\\nConfusion Matrix:\")\n",
        "print(conf_matrix)\n"
      ]
    },
    {
      "cell_type": "code",
      "source": [
        "import pandas as pd\n",
        "from sklearn.ensemble import RandomForestClassifier\n",
        "from sklearn.model_selection import train_test_split\n",
        "from sklearn.metrics import accuracy_score\n",
        "from sklearn.preprocessing import LabelEncoder\n",
        "\n",
        "# Load the dataset\n",
        "df = pd.read_csv('iris - iris.csv')\n",
        "\n",
        "# Encode target labels\n",
        "df['species'] = LabelEncoder().fit_transform(df['species'])\n",
        "\n",
        "# Split features and target\n",
        "X = df.drop('species', axis=1)\n",
        "y = df['species']\n",
        "\n",
        "# Train-test split (80-20)\n",
        "X_train, X_test, y_train, y_test = train_test_split(X, y, test_size=0.2, random_state=42)\n",
        "\n",
        "# Default model with n_estimators=10\n",
        "rf_default = RandomForestClassifier(n_estimators=10, random_state=42)\n",
        "rf_default.fit(X_train, y_train)\n",
        "y_pred_default = rf_default.predict(X_test)\n",
        "default_score = accuracy_score(y_test, y_pred_default)\n",
        "\n",
        "print(f\"Accuracy with n_estimators=10: {default_score:.2f}\")\n",
        "\n",
        "# Fine-tuning: Try different values for n_estimators\n",
        "best_score = 0\n",
        "best_n = 10\n",
        "for n in range(10, 201, 10):\n",
        "    rf = RandomForestClassifier(n_estimators=n, random_state=42)\n",
        "    rf.fit(X_train, y_train)\n",
        "    y_pred = rf.predict(X_test)\n",
        "    score = accuracy_score(y_test, y_pred)\n",
        "    print(f\"n_estimators={n} => Accuracy: {score:.2f}\")\n",
        "    if score > best_score:\n",
        "        best_score = score\n",
        "        best_n = n\n",
        "\n",
        "print(f\"\\nBest Accuracy: {best_score:.2f} with n_estimators = {best_n}\")\n"
      ],
      "metadata": {
        "colab": {
          "base_uri": "https://localhost:8080/"
        },
        "id": "Dt7-J9Eas8qk",
        "outputId": "7c3da4b7-7e38-4f05-c851-ebc07a41d271"
      },
      "execution_count": 6,
      "outputs": [
        {
          "output_type": "stream",
          "name": "stdout",
          "text": [
            "Accuracy with n_estimators=10: 1.00\n",
            "n_estimators=10 => Accuracy: 1.00\n",
            "n_estimators=20 => Accuracy: 1.00\n",
            "n_estimators=30 => Accuracy: 1.00\n",
            "n_estimators=40 => Accuracy: 1.00\n",
            "n_estimators=50 => Accuracy: 1.00\n",
            "n_estimators=60 => Accuracy: 1.00\n",
            "n_estimators=70 => Accuracy: 1.00\n",
            "n_estimators=80 => Accuracy: 1.00\n",
            "n_estimators=90 => Accuracy: 1.00\n",
            "n_estimators=100 => Accuracy: 1.00\n",
            "n_estimators=110 => Accuracy: 1.00\n",
            "n_estimators=120 => Accuracy: 1.00\n",
            "n_estimators=130 => Accuracy: 1.00\n",
            "n_estimators=140 => Accuracy: 1.00\n",
            "n_estimators=150 => Accuracy: 1.00\n",
            "n_estimators=160 => Accuracy: 1.00\n",
            "n_estimators=170 => Accuracy: 1.00\n",
            "n_estimators=180 => Accuracy: 1.00\n",
            "n_estimators=190 => Accuracy: 1.00\n",
            "n_estimators=200 => Accuracy: 1.00\n",
            "\n",
            "Best Accuracy: 1.00 with n_estimators = 10\n"
          ]
        }
      ]
    }
  ]
}