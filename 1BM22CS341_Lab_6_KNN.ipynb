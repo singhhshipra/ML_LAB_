{
  "nbformat": 4,
  "nbformat_minor": 0,
  "metadata": {
    "colab": {
      "provenance": [],
      "authorship_tag": "ABX9TyOEJAaqCwA2t/VSuX1IZUNo",
      "include_colab_link": true
    },
    "kernelspec": {
      "name": "python3",
      "display_name": "Python 3"
    },
    "language_info": {
      "name": "python"
    }
  },
  "cells": [
    {
      "cell_type": "markdown",
      "metadata": {
        "id": "view-in-github",
        "colab_type": "text"
      },
      "source": [
        "<a href=\"https://colab.research.google.com/github/singhhshipra/ML_LAB_/blob/main/1BM22CS341_Lab_6_KNN.ipynb\" target=\"_parent\"><img src=\"https://colab.research.google.com/assets/colab-badge.svg\" alt=\"Open In Colab\"/></a>"
      ]
    },
    {
      "cell_type": "code",
      "execution_count": 9,
      "metadata": {
        "colab": {
          "base_uri": "https://localhost:8080/"
        },
        "id": "9wm9-SRfobMw",
        "outputId": "82c6e3ca-a062-403d-f810-6a07cdf9167e"
      },
      "outputs": [
        {
          "output_type": "stream",
          "name": "stdout",
          "text": [
            "Iris Dataset Results:\n",
            "Accuracy: 1.0\n",
            "Confusion Matrix:\n",
            " [[10  0  0]\n",
            " [ 0  9  0]\n",
            " [ 0  0 11]]\n",
            "Classification Report:\n",
            "               precision    recall  f1-score   support\n",
            "\n",
            "      setosa       1.00      1.00      1.00        10\n",
            "  versicolor       1.00      1.00      1.00         9\n",
            "   virginica       1.00      1.00      1.00        11\n",
            "\n",
            "    accuracy                           1.00        30\n",
            "   macro avg       1.00      1.00      1.00        30\n",
            "weighted avg       1.00      1.00      1.00        30\n",
            "\n",
            "\n",
            "Diabetes Dataset Results:\n",
            "Accuracy: 0.6818181818181818\n",
            "Confusion Matrix:\n",
            " [[78 21]\n",
            " [28 27]]\n"
          ]
        }
      ],
      "source": [
        "import pandas as pd\n",
        "import numpy as np\n",
        "from sklearn.model_selection import train_test_split\n",
        "from sklearn.preprocessing import StandardScaler\n",
        "from sklearn.neighbors import KNeighborsClassifier\n",
        "from sklearn.metrics import accuracy_score, confusion_matrix, classification_report\n",
        "\n",
        "# Load Iris dataset\n",
        "iris_df = pd.read_csv(\"/iris.csv\")\n",
        "X_iris = iris_df.iloc[:, :-1]  # Features\n",
        "y_iris = iris_df.iloc[:, -1]   # Target\n",
        "\n",
        "# Split Iris dataset\n",
        "X_train_iris, X_test_iris, y_train_iris, y_test_iris = train_test_split(X_iris, y_iris, test_size=0.2, random_state=42)\n",
        "\n",
        "# Train KNN model for Iris\n",
        "k_iris = 5  # Optimal k value can be tuned further\n",
        "knn_iris = KNeighborsClassifier(n_neighbors=k_iris)\n",
        "knn_iris.fit(X_train_iris, y_train_iris)\n",
        "\n",
        "# Predictions for Iris\n",
        "y_pred_iris = knn_iris.predict(X_test_iris)\n",
        "\n",
        "# Evaluation for Iris\n",
        "print(\"Iris Dataset Results:\")\n",
        "print(\"Accuracy:\", accuracy_score(y_test_iris, y_pred_iris))\n",
        "print(\"Confusion Matrix:\\n\", confusion_matrix(y_test_iris, y_pred_iris))\n",
        "print(\"Classification Report:\\n\", classification_report(y_test_iris, y_pred_iris))\n",
        "\n",
        "# Load Diabetes dataset\n",
        "diabetes_df = pd.read_csv(\"/diabetes (1).csv\")\n",
        "X_diabetes = diabetes_df.iloc[:, :-1]  # Features\n",
        "y_diabetes = diabetes_df.iloc[:, -1]   # Target\n",
        "\n",
        "# Feature Scaling for Diabetes dataset\n",
        "scaler = StandardScaler()\n",
        "X_diabetes_scaled = scaler.fit_transform(X_diabetes)\n",
        "\n",
        "# Split Diabetes dataset\n",
        "X_train_diabetes, X_test_diabetes, y_train_diabetes, y_test_diabetes = train_test_split(X_diabetes_scaled, y_diabetes, test_size=0.2, random_state=42)\n",
        "\n",
        "# Train KNN model for Diabetes\n",
        "k_diabetes = 7  # Optimal k value can be tuned further\n",
        "knn_diabetes = KNeighborsClassifier(n_neighbors=k_diabetes)\n",
        "knn_diabetes.fit(X_train_diabetes, y_train_diabetes)\n",
        "\n",
        "# Predictions for Diabetes\n",
        "y_pred_diabetes = knn_diabetes.predict(X_test_diabetes)\n",
        "\n",
        "# Evaluation for Diabetes\n",
        "print(\"\\nDiabetes Dataset Results:\")\n",
        "print(\"Accuracy:\", accuracy_score(y_test_diabetes, y_pred_diabetes))\n",
        "print(\"Confusion Matrix:\\n\", confusion_matrix(y_test_diabetes, y_pred_diabetes))"
      ]
    },
    {
      "cell_type": "code",
      "source": [
        "import pandas as pd\n",
        "import numpy as np\n",
        "import matplotlib.pyplot as plt\n",
        "import seaborn as sns\n",
        "from sklearn.model_selection import train_test_split\n",
        "from sklearn.preprocessing import StandardScaler\n",
        "from sklearn.neighbors import KNeighborsClassifier\n",
        "from sklearn.metrics import accuracy_score, confusion_matrix, classification_report\n",
        "\n",
        "# Load dataset\n",
        "df = pd.read_csv(\"/heart.csv\")\n",
        "\n",
        "# Separate features and target\n",
        "X = df.drop(columns=['target'])\n",
        "y = df['target']\n",
        "\n",
        "# Normalize features\n",
        "scaler = StandardScaler()\n",
        "X_scaled = scaler.fit_transform(X)\n",
        "\n",
        "# Split dataset into training and testing sets\n",
        "X_train, X_test, y_train, y_test = train_test_split(X_scaled, y, test_size=0.2, random_state=42, stratify=y)\n",
        "\n",
        "# Find the best k\n",
        "best_k = 1\n",
        "best_score = 0\n",
        "scores = {}\n",
        "\n",
        "for k in range(1, 21):\n",
        "    knn = KNeighborsClassifier(n_neighbors=k)\n",
        "    knn.fit(X_train, y_train)\n",
        "    y_pred = knn.predict(X_test)\n",
        "    acc = accuracy_score(y_test, y_pred)\n",
        "    scores[k] = acc\n",
        "    if acc > best_score:\n",
        "        best_score = acc\n",
        "        best_k = k\n",
        "\n",
        "print(f\"Best k: {best_k}, Best Accuracy: {best_score}\")\n",
        "\n",
        "# Train KNN with best k\n",
        "knn_best = KNeighborsClassifier(n_neighbors=best_k)\n",
        "knn_best.fit(X_train, y_train)\n",
        "y_pred_best = knn_best.predict(X_test)\n",
        "\n",
        "# Compute confusion matrix\n",
        "cm = confusion_matrix(y_test, y_pred_best)\n",
        "\n",
        "# Plot confusion matrix\n",
        "plt.figure(figsize=(6,4))\n",
        "sns.heatmap(cm, annot=True, fmt='d', cmap='Blues', xticklabels=[\"No Disease\", \"Disease\"], yticklabels=[\"No Disease\", \"Disease\"])\n",
        "plt.xlabel(\"Predicted Label\")\n",
        "plt.ylabel(\"True Label\")\n",
        "plt.title(\"Confusion Matrix\")\n",
        "plt.show()\n",
        "\n",
        "# Print classification report\n",
        "report = classification_report(y_test, y_pred_best, target_names=[\"No Disease\", \"Disease\"])\n",
        "print(report)\n"
      ],
      "metadata": {
        "colab": {
          "base_uri": "https://localhost:8080/",
          "height": 584
        },
        "id": "ffmRmJmIyOLs",
        "outputId": "1a21fb76-9532-41aa-cd7f-7dd9f04434c5"
      },
      "execution_count": 11,
      "outputs": [
        {
          "output_type": "stream",
          "name": "stdout",
          "text": [
            "Best k: 12, Best Accuracy: 0.8688524590163934\n"
          ]
        },
        {
          "output_type": "display_data",
          "data": {
            "text/plain": [
              "<Figure size 600x400 with 2 Axes>"
            ],
            "image/png": "[encoded data removed]"
          },
          "metadata": {}
        },
        {
          "output_type": "stream",
          "name": "stdout",
          "text": [
            "              precision    recall  f1-score   support\n",
            "\n",
            "  No Disease       0.92      0.79      0.85        28\n",
            "     Disease       0.84      0.94      0.89        33\n",
            "\n",
            "    accuracy                           0.87        61\n",
            "   macro avg       0.88      0.86      0.87        61\n",
            "weighted avg       0.87      0.87      0.87        61\n",
            "\n"
          ]
        }
      ]
    }
  ]
}