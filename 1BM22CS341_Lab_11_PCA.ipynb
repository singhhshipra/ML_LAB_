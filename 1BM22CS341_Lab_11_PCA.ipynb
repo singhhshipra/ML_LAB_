{
  "nbformat": 4,
  "nbformat_minor": 0,
  "metadata": {
    "colab": {
      "provenance": [],
      "authorship_tag": "ABX9TyM0k58h06zvE/G84HgwmGis",
      "include_colab_link": true
    },
    "kernelspec": {
      "name": "python3",
      "display_name": "Python 3"
    },
    "language_info": {
      "name": "python"
    }
  },
  "cells": [
    {
      "cell_type": "markdown",
      "metadata": {
        "id": "view-in-github",
        "colab_type": "text"
      },
      "source": [
        "<a href=\"https://colab.research.google.com/github/singhhshipra/ML_LAB_/blob/main/1BM22CS341_Lab_11_PCA.ipynb\" target=\"_parent\"><img src=\"https://colab.research.google.com/assets/colab-badge.svg\" alt=\"Open In Colab\"/></a>"
      ]
    },
    {
      "cell_type": "code",
      "execution_count": 2,
      "metadata": {
        "colab": {
          "base_uri": "https://localhost:8080/"
        },
        "id": "yGJmS9cG5jL9",
        "outputId": "b4e17c6f-acbc-4b1d-c4a4-f05969273bd5"
      },
      "outputs": [
        {
          "output_type": "stream",
          "name": "stdout",
          "text": [
            "✅ Model Score (accuracy using .score()): 0.5389\n",
            "✅ Accuracy using PCA with 2 components: 0.5389\n"
          ]
        }
      ],
      "source": [
        "from sklearn.datasets import load_digits\n",
        "from sklearn.model_selection import train_test_split\n",
        "from sklearn.preprocessing import StandardScaler\n",
        "from sklearn.decomposition import PCA\n",
        "from sklearn.linear_model import LogisticRegression\n",
        "from sklearn.metrics import accuracy_score\n",
        "\n",
        "# Step 1: Load the digits dataset\n",
        "digits = load_digits()\n",
        "X = digits.data\n",
        "y = digits.target\n",
        "\n",
        "# Step 2: Scale the data\n",
        "scaler = StandardScaler()\n",
        "X_scaled = scaler.fit_transform(X)\n",
        "\n",
        "# Step 3: Apply PCA (reduce to 2 components)\n",
        "pca = PCA(n_components=2)\n",
        "X_pca = pca.fit_transform(X_scaled)\n",
        "\n",
        "# Step 4: Split into training and testing sets (80% train, 20% test)\n",
        "X_train, X_test, y_train, y_test = train_test_split(\n",
        "    X_pca, y, test_size=0.2, random_state=42\n",
        ")\n",
        "\n",
        "# Step 5: Train Logistic Regression on PCA-transformed data\n",
        "model = LogisticRegression()\n",
        "model.fit(X_train, y_train)\n",
        "\n",
        "# Step 6: Predict and evaluate\n",
        "y_pred = model.predict(X_test)\n",
        "accuracy = accuracy_score(y_test, y_pred)\n",
        "score = model.score(X_test, y_test)\n",
        "print(\"✅ Model Score (accuracy using .score()):\", round(score, 4))\n",
        "\n",
        "print(\"✅ Accuracy using PCA with 2 components:\", round(accuracy, 4))\n"
      ]
    },
    {
      "cell_type": "code",
      "source": [
        "import pandas as pd\n",
        "import numpy as np\n",
        "from sklearn.preprocessing import StandardScaler, LabelEncoder\n",
        "from sklearn.model_selection import train_test_split\n",
        "from sklearn.ensemble import RandomForestClassifier\n",
        "from sklearn.linear_model import LogisticRegression\n",
        "from sklearn.svm import SVC\n",
        "from sklearn.metrics import accuracy_score\n",
        "from sklearn.decomposition import PCA\n",
        "from scipy.stats import zscore\n",
        "\n",
        "# Step 1: Load dataset\n",
        "df = pd.read_csv(\"/content/heart.csv\")  # Adjust path if needed\n",
        "\n",
        "# Step 2: Remove outliers using Z-score\n",
        "z_scores = np.abs(zscore(df.select_dtypes(include=[np.number])))\n",
        "df = df[(z_scores < 3).all(axis=1)]\n",
        "\n",
        "# Step 3: Convert text columns to numbers\n",
        "df_encoded = df.copy()\n",
        "for col in df_encoded.select_dtypes(include=[\"object\"]).columns:\n",
        "    if df_encoded[col].nunique() <= 2:\n",
        "        le = LabelEncoder()\n",
        "        df_encoded[col] = le.fit_transform(df_encoded[col])\n",
        "    else:\n",
        "        df_encoded = pd.get_dummies(df_encoded, columns=[col], drop_first=True)\n",
        "\n",
        "# Step 4: Apply scaling\n",
        "X = df_encoded.drop(\"target\", axis=1)  # Replace 'target' if it's named differently\n",
        "y = df_encoded[\"target\"]\n",
        "\n",
        "scaler = StandardScaler()\n",
        "X_scaled = scaler.fit_transform(X)\n",
        "\n",
        "# Step 5: Train/test split and model building\n",
        "X_train, X_test, y_train, y_test = train_test_split(X_scaled, y, test_size=0.2, random_state=42)\n",
        "\n",
        "models = {\n",
        "    \"Logistic Regression\": LogisticRegression(max_iter=1000),\n",
        "    \"Random Forest\": RandomForestClassifier(),\n",
        "    \"SVM\": SVC()\n",
        "}\n",
        "\n",
        "print(\"Model Accuracies (without PCA):\")\n",
        "for name, model in models.items():\n",
        "    model.fit(X_train, y_train)\n",
        "    preds = model.predict(X_test)\n",
        "    acc = accuracy_score(y_test, preds)\n",
        "    print(f\"{name}: {acc:.4f}\")\n",
        "\n",
        "# Step 6: Apply PCA and re-evaluate\n",
        "pca = PCA(n_components=0.95)  # Retain 95% variance\n",
        "X_pca = pca.fit_transform(X_scaled)\n",
        "X_train_pca, X_test_pca, _, _ = train_test_split(X_pca, y, test_size=0.2, random_state=42)\n",
        "\n",
        "print(\"\\nModel Accuracies (with PCA):\")\n",
        "for name, model in models.items():\n",
        "    model.fit(X_train_pca, y_train)\n",
        "    preds = model.predict(X_test_pca)\n",
        "    acc = accuracy_score(y_test, preds)\n",
        "    print(f\"{name}: {acc:.4f}\")"
      ],
      "metadata": {
        "colab": {
          "base_uri": "https://localhost:8080/"
        },
        "id": "qUky1IoS7UL0",
        "outputId": "0da85f60-9731-4af3-d5b5-4576f7c981e1"
      },
      "execution_count": 4,
      "outputs": [
        {
          "output_type": "stream",
          "name": "stdout",
          "text": [
            "Model Accuracies (without PCA):\n",
            "Logistic Regression: 0.8103\n",
            "Random Forest: 0.7759\n",
            "SVM: 0.7931\n",
            "\n",
            "Model Accuracies (with PCA):\n",
            "Logistic Regression: 0.8276\n",
            "Random Forest: 0.8103\n",
            "SVM: 0.7586\n"
          ]
        }
      ]
    }
  ]
}